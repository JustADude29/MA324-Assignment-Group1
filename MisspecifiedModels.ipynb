{
 "cells": [
  {
   "cell_type": "code",
   "execution_count": 148,
   "metadata": {
    "id": "Qb3Zcfvs6Mie"
   },
   "outputs": [],
   "source": [
    "import matplotlib.pyplot as plt\n",
    "import numpy as np\n",
    "import pandas as pd\n",
    "from scipy.special import kl_div\n",
    "from scipy.special import rel_entr\n",
    "from scipy.stats import norm, expon, gamma,beta\n",
    "import warnings\n",
    "warnings.filterwarnings(\"ignore\")"
   ]
  },
  {
   "cell_type": "code",
   "execution_count": 149,
   "metadata": {
    "id": "cWWz8Mu-WkqF"
   },
   "outputs": [],
   "source": [
    "def KLD(data,distributions):\n",
    "  best_total_divergence=np.inf\n",
    "  for distribution in distributions:\n",
    "    # Fit distribution to data\n",
    "    n=data.size\n",
    "    params = distribution.fit(data)\n",
    "\n",
    "    # Calculate PDF of the fitted normal distribution\n",
    "    pdf = distribution.pdf(data,*params)\n",
    "\n",
    "    # Calculate KL divergence between empirical distribution and fitted distribution\n",
    "    kl_divergence =rel_entr(np.full(n,1/n), pdf)\n",
    "\n",
    "    # Sum KL divergence values to get total divergence\n",
    "    total_divergence = np.sum(kl_divergence)\n",
    "\n",
    "    if total_divergence < best_total_divergence:\n",
    "          best_distribution = distribution\n",
    "          best_params = params\n",
    "          best_total_divergence = total_divergence\n",
    "\n",
    "    print(f'Total KL Divergence for {distribution.name} with parameters {params}: {total_divergence}')\n",
    "\n",
    "  print(f'Best distribution: {best_distribution.name}, Total divergence = {best_total_divergence}, Parameters = {best_params}')\n"
   ]
  },
  {
   "cell_type": "code",
   "execution_count": 150,
   "metadata": {
    "id": "usMbN-Tn-PcI"
   },
   "outputs": [],
   "source": [
    "def AIC(distributions,data):\n",
    "\n",
    "  best_distribution = None\n",
    "  best_params = None\n",
    "  best_aic = np.inf\n",
    "\n",
    "  for distribution in distributions:\n",
    "      # Fit distribution to data\n",
    "      params = distribution.fit(data)\n",
    "\n",
    "      # Calculate log-likelihood\n",
    "      log_likelihood = distribution.logpdf(data, *params).sum()\n",
    "\n",
    "      # Calculate number of parameters\n",
    "      num_params = len(params)\n",
    "\n",
    "      # Calculate AIC\n",
    "      aic = -2 * log_likelihood + 2 * num_params\n",
    "\n",
    "      print(f'{distribution.name}: AIC = {aic}, Parameters = {params}')\n",
    "\n",
    "      # Update best distribution if current AIC is lower\n",
    "      if aic < best_aic:\n",
    "          best_distribution = distribution\n",
    "          best_params = params\n",
    "          best_aic = aic\n",
    "\n",
    "  print(f'Best distribution: {best_distribution.name}, AIC = {best_aic}, Parameters = {best_params}')\n"
   ]
  },
  {
   "cell_type": "code",
   "execution_count": 151,
   "metadata": {
    "id": "eAEuKpasoTYI"
   },
   "outputs": [],
   "source": [
    "def BIC(distributions,data):\n",
    "  best_distribution = None\n",
    "  best_params = None\n",
    "  best_bic = np.inf\n",
    "\n",
    "  for distribution in distributions:\n",
    "    # Fit distribution to data\n",
    "    params = distribution.fit(data)\n",
    "\n",
    "    # Calculate log-likelihood\n",
    "    log_likelihood = distribution.logpdf(data, *params).sum()\n",
    "\n",
    "    # Calculate number of parameters\n",
    "    num_params = len(params)\n",
    "\n",
    "    # Calculate BIC\n",
    "    bic = -2 * log_likelihood + num_params * np.log(len(data))\n",
    "\n",
    "    print(f'{distribution.name}: BIC = {bic}, Parameters = {params}')\n",
    "\n",
    "    # Update best distribution if current BIC is lower\n",
    "    if bic < best_bic:\n",
    "        best_distribution = distribution\n",
    "        best_params = params\n",
    "        best_bic = bic\n",
    "\n",
    "  print(f'Best distribution: {best_distribution.name}, BIC = {best_bic}, Parameters = {best_params}')"
   ]
  },
  {
   "cell_type": "code",
   "execution_count": 152,
   "metadata": {
    "id": "V6YRUi_b9klQ"
   },
   "outputs": [
    {
     "name": "stdout",
     "output_type": "stream",
     "text": [
      "--------------------------------------------\n",
      "Total KL Divergence for norm with parameters (0.2826264503959966, 0.16080795797220984): -7.316361179362392\n",
      "Total KL Divergence for expon with parameters (0.006594143239729134, 0.2760323071562675): -7.194992644183504\n",
      "Total KL Divergence for gamma with parameters (3.6711466211879236, -0.039694705206928096, 0.0877985591763701): -7.3684315793572495\n",
      "Total KL Divergence for beta with parameters (1.8149851100186734, 4.381063535691971, 0.0029151431267607562, 0.9537718663032309): -7.386933936125613\n",
      "Best distribution: beta, Total divergence = -7.386933936125613, Parameters = (1.8149851100186734, 4.381063535691971, 0.0029151431267607562, 0.9537718663032309)\n",
      "norm: AIC = -813.2118007605102, Parameters = (0.2826264503959966, 0.16080795797220984)\n",
      "expon: AIC = -570.4747304027325, Parameters = (0.006594143239729134, 0.2760323071562675)\n",
      "gamma: AIC = -915.3526007502244, Parameters = (3.6711466211879236, -0.039694705206928096, 0.0877985591763701)\n",
      "beta: AIC = -950.3573142869543, Parameters = (1.8149851100186734, 4.381063535691971, 0.0029151431267607562, 0.9537718663032309)\n",
      "Best distribution: beta, AIC = -950.3573142869543, Parameters = (1.8149851100186734, 4.381063535691971, 0.0029151431267607562, 0.9537718663032309)\n",
      "norm: BIC = -803.396290202546, Parameters = (0.2826264503959966, 0.16080795797220984)\n",
      "expon: BIC = -560.6592198447681, Parameters = (0.006594143239729134, 0.2760323071562675)\n",
      "gamma: BIC = -900.629334913278, Parameters = (3.6711466211879236, -0.039694705206928096, 0.0877985591763701)\n",
      "beta: BIC = -930.7262931710258, Parameters = (1.8149851100186734, 4.381063535691971, 0.0029151431267607562, 0.9537718663032309)\n",
      "Best distribution: beta, BIC = -930.7262931710258, Parameters = (1.8149851100186734, 4.381063535691971, 0.0029151431267607562, 0.9537718663032309)\n",
      "--------------------------------------------\n",
      "Total KL Divergence for norm with parameters (10.514821193364744, 10.054786181425225): -3.180767987679475\n",
      "Total KL Divergence for expon with parameters (0.03875031506690699, 10.476070878297838): -3.5586615865808424\n",
      "Total KL Divergence for gamma with parameters (0.9966248476946935, 0.03875031506690698, 10.507995755390564): -3.5587591527411018\n",
      "Total KL Divergence for beta with parameters (0.9868426992734457, 66.96639648840986, 0.03875031506690698, 720.9797526572859): -3.5595796680016933\n",
      "Best distribution: beta, Total divergence = -3.5595796680016933, Parameters = (0.9868426992734457, 66.96639648840986, 0.03875031506690698, 720.9797526572859)\n",
      "norm: AIC = 7457.974582605324, Parameters = (10.514821193364744, 10.054786181425225)\n",
      "expon: AIC = 6702.187384802588, Parameters = (0.03875031506690699, 10.476070878297838)\n",
      "gamma: AIC = 6703.992252482071, Parameters = (0.9966248476946935, 0.03875031506690698, 10.507995755390564)\n",
      "beta: AIC = 6704.351221960827, Parameters = (0.9868426992734457, 66.96639648840986, 0.03875031506690698, 720.9797526572859)\n",
      "Best distribution: expon, AIC = 6702.187384802588, Parameters = (0.03875031506690699, 10.476070878297838)\n",
      "norm: BIC = 7467.7900931632885, Parameters = (10.514821193364744, 10.054786181425225)\n",
      "expon: BIC = 6712.002895360552, Parameters = (0.03875031506690699, 10.476070878297838)\n",
      "gamma: BIC = 6718.715518319018, Parameters = (0.9966248476946935, 0.03875031506690698, 10.507995755390564)\n",
      "beta: BIC = 6723.982243076756, Parameters = (0.9868426992734457, 66.96639648840986, 0.03875031506690698, 720.9797526572859)\n",
      "Best distribution: expon, BIC = 6712.002895360552, Parameters = (0.03875031506690699, 10.476070878297838)\n",
      "--------------------------------------------\n",
      "Total KL Divergence for norm with parameters (19.64219656538972, 13.576411414499422): -2.8804829137599706\n",
      "Total KL Divergence for expon with parameters (0.3787494162993572, 19.263447149090364): -2.949545908923564\n",
      "Total KL Divergence for gamma with parameters (2.1051149388010235, 0.0873058188814838, 9.289233485678137): -3.0656341784998076\n",
      "Total KL Divergence for beta with parameters (2.104527138583137, 664452.413923189, 0.08812688544984265, 6174105.063171168): -3.0656341407768153\n",
      "Best distribution: gamma, Total divergence = -3.0656341784998076, Parameters = (2.1051149388010235, 0.0873058188814838, 9.289233485678137)\n",
      "norm: AIC = 8058.544730444333, Parameters = (19.64219656538972, 13.576411414499422)\n",
      "expon: AIC = 7920.418740117146, Parameters = (0.3787494162993572, 19.263447149090364)\n",
      "gamma: AIC = 7690.242200964659, Parameters = (2.1051149388010235, 0.0873058188814838, 9.289233485678137)\n",
      "beta: AIC = 7692.242269920662, Parameters = (2.104527138583137, 664452.413923189, 0.08812688544984265, 6174105.063171168)\n",
      "Best distribution: gamma, AIC = 7690.242200964659, Parameters = (2.1051149388010235, 0.0873058188814838, 9.289233485678137)\n",
      "norm: BIC = 8068.360241002298, Parameters = (19.64219656538972, 13.576411414499422)\n",
      "expon: BIC = 7930.23425067511, Parameters = (0.3787494162993572, 19.263447149090364)\n",
      "gamma: BIC = 7704.9654668016055, Parameters = (2.1051149388010235, 0.0873058188814838, 9.289233485678137)\n",
      "beta: BIC = 7711.873291036591, Parameters = (2.104527138583137, 664452.413923189, 0.08812688544984265, 6174105.063171168)\n",
      "Best distribution: gamma, BIC = 7704.9654668016055, Parameters = (2.1051149388010235, 0.0873058188814838, 9.289233485678137)\n",
      "--------------------------------------------\n",
      "Total KL Divergence for norm with parameters (0.12092798479001685, 10.272612344320846): -3.159335387647057\n",
      "Total KL Divergence for expon with parameters (-29.587911931011664, 29.708839915801683): -2.516310637196876\n",
      "Total KL Divergence for gamma with parameters (3929.7363154738887, -643.8489902974829, 0.16387096681620233): -3.1594209207320736\n",
      "Total KL Divergence for beta with parameters (33.633643232222084, 38.48188758340165, -81.9995073453046, 176.07841624570355): -3.1595498309196355\n",
      "Best distribution: beta, Total divergence = -3.1595498309196355, Parameters = (33.633643232222084, 38.48188758340165, -81.9995073453046, 176.07841624570355)\n",
      "norm: AIC = 7500.83978267016, Parameters = (0.12092798479001685, 10.272612344320846)\n",
      "expon: AIC = 8786.889283570523, Parameters = (-29.587911931011664, 29.708839915801683)\n",
      "gamma: AIC = 7502.668716500127, Parameters = (3929.7363154738887, -643.8489902974829, 0.16387096681620233)\n",
      "beta: AIC = 7504.410896124939, Parameters = (33.633643232222084, 38.48188758340165, -81.9995073453046, 176.07841624570355)\n",
      "Best distribution: norm, AIC = 7500.83978267016, Parameters = (0.12092798479001685, 10.272612344320846)\n",
      "norm: BIC = 7510.655293228125, Parameters = (0.12092798479001685, 10.272612344320846)\n",
      "expon: BIC = 8796.704794128487, Parameters = (-29.587911931011664, 29.708839915801683)\n",
      "gamma: BIC = 7517.391982337073, Parameters = (3929.7363154738887, -643.8489902974829, 0.16387096681620233)\n",
      "beta: BIC = 7524.041917240868, Parameters = (33.633643232222084, 38.48188758340165, -81.9995073453046, 176.07841624570355)\n",
      "Best distribution: norm, BIC = 7510.655293228125, Parameters = (0.12092798479001685, 10.272612344320846)\n"
     ]
    }
   ],
   "source": [
    "shape=2\n",
    "size=1000\n",
    "scale=5\n",
    "data0=np.random.beta(shape,scale,size)\n",
    "data1=np.random.exponential(2*scale,size)\n",
    "data2=np.random.gamma(shape, 2*scale, size)\n",
    "data3=np.random.normal(0, 2*scale, size)\n",
    "filenames = [data0, data1, data2, data3]\n",
    "distributions=[norm,expon,gamma,beta]\n",
    "for data in filenames:\n",
    "    print(\"--------------------------------------------\")\n",
    "    #Using KL Divergence\n",
    "    KLD(data,distributions)\n",
    "    #Using AIC\n",
    "    AIC(distributions,data)\n",
    "    #Using BIC\n",
    "    BIC(distributions,data)"
   ]
  },
  {
   "cell_type": "code",
   "execution_count": null,
   "metadata": {
    "id": "_9N2M6KThHKd"
   },
   "outputs": [],
   "source": []
  },
  {
   "cell_type": "code",
   "execution_count": null,
   "metadata": {
    "colab": {
     "base_uri": "https://localhost:8080/",
     "height": 206
    },
    "id": "Z-hDDAAfhefy",
    "outputId": "9343c080-9410-43e7-fb32-4a6f23e57be3"
   },
   "outputs": [],
   "source": []
  },
  {
   "cell_type": "code",
   "execution_count": null,
   "metadata": {
    "id": "jgvaoVlMJgsh"
   },
   "outputs": [],
   "source": []
  },
  {
   "cell_type": "code",
   "execution_count": null,
   "metadata": {
    "colab": {
     "base_uri": "https://localhost:8080/"
    },
    "id": "jHLS8fMOWnoL",
    "outputId": "ef10d6f3-c653-445b-f48a-3ae0dc264fdf"
   },
   "outputs": [],
   "source": []
  },
  {
   "cell_type": "code",
   "execution_count": null,
   "metadata": {
    "colab": {
     "base_uri": "https://localhost:8080/"
    },
    "id": "BidwHW6zK2up",
    "outputId": "497cbae8-189d-42d6-ee17-03c4e3b5d37b"
   },
   "outputs": [],
   "source": []
  },
  {
   "cell_type": "code",
   "execution_count": null,
   "metadata": {
    "colab": {
     "base_uri": "https://localhost:8080/"
    },
    "id": "5LTQnF9jwkeh",
    "outputId": "fb04358e-5643-4fe2-e98d-25dd931ea7ef"
   },
   "outputs": [],
   "source": []
  }
 ],
 "metadata": {
  "colab": {
   "provenance": []
  },
  "kernelspec": {
   "display_name": "Python 3 (ipykernel)",
   "language": "python",
   "name": "python3"
  },
  "language_info": {
   "codemirror_mode": {
    "name": "ipython",
    "version": 3
   },
   "file_extension": ".py",
   "mimetype": "text/x-python",
   "name": "python",
   "nbconvert_exporter": "python",
   "pygments_lexer": "ipython3",
   "version": "3.12.2"
  }
 },
 "nbformat": 4,
 "nbformat_minor": 4
}
